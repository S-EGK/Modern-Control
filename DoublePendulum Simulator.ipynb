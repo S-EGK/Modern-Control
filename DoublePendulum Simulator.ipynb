{
  "nbformat": 4,
  "nbformat_minor": 0,
  "metadata": {
    "colab": {
      "name": "DoublePendulum.ipynb",
      "provenance": [],
      "authorship_tag": "ABX9TyMl2DhZMNoffKeaL3sMkmTc",
      "include_colab_link": true
    },
    "kernelspec": {
      "name": "python3",
      "display_name": "Python 3"
    },
    "language_info": {
      "name": "python"
    }
  },
  "cells": [
    {
      "cell_type": "markdown",
      "metadata": {
        "id": "view-in-github",
        "colab_type": "text"
      },
      "source": [
        "<a href=\"https://colab.research.google.com/github/S-EGK/Simulators/blob/main/DoublePendulum%20Simulator.ipynb\" target=\"_parent\"><img src=\"https://colab.research.google.com/assets/colab-badge.svg\" alt=\"Open In Colab\"/></a>"
      ]
    },
    {
      "cell_type": "code",
      "metadata": {
        "id": "9TyBioSw9hKS"
      },
      "source": [
        "# importing libraries\n",
        "from math import cos, sin\n",
        "import numpy as np\n",
        "from random import random\n",
        "import scipy.signal as signal\n",
        "import scipy.linalg as linalg\n",
        "from mpl_toolkits.mplot3d import Axes3D\n",
        "from scipy.integrate import solve_ivp\n",
        "import matplotlib.pyplot as plt\n",
        "from matplotlib import animation\n",
        "from matplotlib.patches import Circle"
      ],
      "execution_count": null,
      "outputs": []
    },
    {
      "cell_type": "code",
      "metadata": {
        "id": "3jzWlTeT9pP-"
      },
      "source": [
        "  # Parameters\n",
        "  g = 9.81 # gravity\n",
        "  m1 = 1 # mass of pendulum bob 1\n",
        "  m2 = 1 # mass of pendulum bob 2\n",
        "  l1 = 1 # length of pendulum rod 1\n",
        "  l2 = 1 # length of pendulum rod 2\n",
        "  r = 0.05 # radius of the bobs\n",
        "\n",
        "  # initial conditions\n",
        "\n",
        "  theta1 = np.pi/3\n",
        "  theta_dot1 = 0\n",
        "  theta2 = 0\n",
        "  theta_dot2 = 0\n",
        "  states = np.array([theta1, theta2, theta_dot1, theta_dot2])\n",
        "\n",
        "  # simulation parameters\n",
        "\n",
        "  dt = 0.1\n",
        "  Tfinal = 40\n",
        "  Ts = dt\n",
        "  Tsteps = Tfinal/Ts # number of frames\n",
        "  frames = int(Tsteps)\n",
        "\n",
        "  # animation parameters\n",
        "\n",
        "  rod1_x = [0, l1 * np.sin(theta1)]\n",
        "  rod1_y = [0, -l1 * np.cos(theta1)]\n",
        "  rod2_x = [l1  *np.sin(theta1), l1 * np.sin(theta1) + l2*np.sin(theta2)]\n",
        "  rod2_y = [-l1 * np.cos(theta1), -l1 * np.cos(theta1) - l2*np.cos(theta2)]\n",
        "\n",
        "  fig = plt.figure(figsize = (15,5))\n",
        "  ax1 = plt.subplot(1,1,1)\n",
        "  ax1.set_xlim((-10,10))\n",
        "  ax1.set_ylim((-3,3))\n",
        "\n",
        "  rod1, = ax1.plot(rod1_x, rod1_y, 'b', lw = 2)\n",
        "  rod2, = ax1.plot(rod2_x, rod2_y, 'r', lw = 2)\n",
        "\n",
        "  bob1, = ax1.plot(l1 * np.sin(theta1), -l1 * np.cos(theta1), 'g', marker = 'o', ms = 10)\n",
        "  bob2, = ax1.plot(l1 * np.sin(theta1) + l2 * np.sin(theta2), -l1 * np.cos(theta1)-l2 * np.cos(theta2), 'y', marker = 'o', ms = 10)\n",
        "\n",
        "  ax1.set_xlabel('X-axis')\n",
        "  ax1.set_ylabel('Y-axis')\n",
        "  ax1.set_title('Double Pendulum System')"
      ],
      "execution_count": null,
      "outputs": []
    },
    {
      "cell_type": "code",
      "metadata": {
        "id": "Yiwl-_049ywY"
      },
      "source": [
        "# Animation Functions\n",
        "def rod1Points(l1, theta1):\n",
        "    rod1_x=[0, l1 * np.sin(theta1)]\n",
        "    rod1_y=[0, -l1 * np.cos(theta1)]\n",
        "    \n",
        "    return [rod1_x, rod1_y]\n",
        "\n",
        "def bob1Points(l1, theta1):\n",
        "    bob1_x, bob1_y = l1 * np.sin(theta1), -l1 * np.cos(theta1)\n",
        "\n",
        "    return [bob1_x, bob1_y]\n",
        "\n",
        "def bob2Points(l1, l2, theta1, theta2):\n",
        "    bob2_x, bob2_y = l1 * np.sin(theta1) + l2 * np.sin(theta2), -l1 * np.cos(theta1) - l2 * np.cos(theta2)\n",
        "\n",
        "    return [bob2_x, bob2_y]\n",
        "\n",
        "def rod2Points(l1, l2, theta1, theta2):\n",
        "    rod2_x = [l1 * np.sin(theta1), l1 * np.sin(theta1) + l2 * np.sin(theta2)]\n",
        "    rod2_y = [-l1 * np.cos(theta1), -l1 * np.cos(theta1) - l2 * np.cos(theta2)]\n",
        "    \n",
        "    return [rod2_x, rod2_y] "
      ],
      "execution_count": null,
      "outputs": []
    },
    {
      "cell_type": "code",
      "metadata": {
        "id": "Xf3P6l9u9733"
      },
      "source": [
        "# Dynamics\n",
        "  def dblpend_dyna(t,y):\n",
        "\n",
        "    theta1 = y[0]\n",
        "    theta2 = y[1]\n",
        "    theta_dot1 = y[2]\n",
        "    theta_dot2 = y[3]\n",
        "\n",
        "    s1 = np.sin(y[0])\n",
        "    c1 = np.cos(y[0])\n",
        "    s2 = np.sin(y[1])\n",
        "    c2 = np.cos(y[1])\n",
        "\n",
        "    k = 2 * m1 + m2 - m2 * np.cos(2 * theta1 - 2 * theta2)\n",
        "\n",
        "    theta_ddot1 = (- g * (2 * m1 + m2) * s1 - m2 * g * np.sin(theta1 - 2 * theta2) - 2 * np.sin(theta1 - theta2) * m2 * (theta_dot2 ** 2 * l2 + theta_dot1 ** 2 * l1 * np.cos(theta1 - theta2))) / l1 * k\n",
        "    theta_ddot2 = (2 * np.sin(theta1 - theta2) * (theta_dot1 ** 2 * l1 * (m1 + m2) + g * (m1 + m2) * c1 + theta_dot2 ** 2 * l2 * m2 * np.cos(theta1 - theta2))) / l2 * k\n",
        "\n",
        "    return [y[2], y[3], theta_ddot1, theta_ddot2]"
      ],
      "execution_count": null,
      "outputs": []
    },
    {
      "cell_type": "code",
      "metadata": {
        "id": "AyxqXzvl9-Dr"
      },
      "source": [
        "# Integral Solver\n",
        "def step(states, dt):\n",
        "  theta1 = states[0]\n",
        "  theta2 = states[1]\n",
        "  theta_dot1 = states[2]\n",
        "  theta_dot2 = states[3]\n",
        "\n",
        "  sol = solve_ivp(lambda t, y: dblpend_dyna(t, y), [0, dt], [theta1, theta2, theta_dot1, theta_dot2], t_eval = np.linspace(0, dt, 10))\n",
        "  states = sol.y[:,-1].T\n",
        "  return states"
      ],
      "execution_count": null,
      "outputs": []
    },
    {
      "cell_type": "code",
      "metadata": {
        "id": "jokBWg7c-ApE"
      },
      "source": [
        "# Solver Iterater\n",
        "def drawframe(i):\n",
        "  global states\n",
        "  states = step(states, dt)\n",
        "  theta1 = states[0]\n",
        "  theta2 = states[1]\n",
        "  theta_dot1 = states[2]\n",
        "  theta_dot2 = states[3]\n",
        "  rod1_x, rod1_y = rod1Points(l1, theta1)\n",
        "  bob1_x, bob1_y = bob1Points(l1, theta1)\n",
        "  rod2_x, rod2_y = rod2Points(l1, l2, theta1, theta2)\n",
        "  bob2_x, bob2_y = bob2Points(l1, l2, theta1, theta2)\n",
        "  rod1.set_data(rod1_x, rod1_y)\n",
        "  rod2.set_data(rod2_x, rod2_y)\n",
        "  bob1.set_data(bob1_x, bob1_y)\n",
        "  bob2.set_data(bob2_x, bob2_y)\n",
        "\n",
        "  return rod1, rod2, bob1, bob2"
      ],
      "execution_count": null,
      "outputs": []
    },
    {
      "cell_type": "code",
      "metadata": {
        "id": "i-f-fC34-DrK"
      },
      "source": [
        "# Animator\n",
        "from matplotlib import animation\n",
        "ax1.set_xlabel('X-axis')\n",
        "ax1.set_ylabel('Y-axis')\n",
        "ax1.set_title('Double Pendulum System')\n",
        "\n",
        "# blit=True re-draws only the parts that have changed.\n",
        "anim = animation.FuncAnimation(fig, drawframe, frames=frames, interval=40, blit=True)"
      ],
      "execution_count": null,
      "outputs": []
    },
    {
      "cell_type": "code",
      "metadata": {
        "id": "lt8M7X8o-HxX"
      },
      "source": [
        "# Convert animation to HTML5 video\n",
        "from IPython.display import HTML\n",
        "HTML(anim.to_html5_video())\n",
        "\n",
        "# Note: the animation takes 40mins, please run at your own risk"
      ],
      "execution_count": null,
      "outputs": []
    }
  ]
}
