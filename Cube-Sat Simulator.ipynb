{
  "nbformat": 4,
  "nbformat_minor": 0,
  "metadata": {
    "colab": {
      "name": "Sat.ipynb",
      "provenance": [],
      "authorship_tag": "ABX9TyPnbfEGPvAoKywHX+S1w/mi",
      "include_colab_link": true
    },
    "kernelspec": {
      "name": "python3",
      "display_name": "Python 3"
    },
    "language_info": {
      "name": "python"
    }
  },
  "cells": [
    {
      "cell_type": "markdown",
      "metadata": {
        "id": "view-in-github",
        "colab_type": "text"
      },
      "source": [
        "<a href=\"https://colab.research.google.com/github/S-EGK/Modern-Control/blob/main/Cube-Sat%20Simulator.ipynb\" target=\"_parent\"><img src=\"https://colab.research.google.com/assets/colab-badge.svg\" alt=\"Open In Colab\"/></a>"
      ]
    },
    {
      "cell_type": "code",
      "metadata": {
        "id": "BWOCAfKrZuUx"
      },
      "source": [
        "# Importing Libraries\n",
        "\n",
        "from math import cos, sin\n",
        "import numpy as np\n",
        "#from CartPole import CartPole\n",
        "from random import random\n",
        "import scipy.signal as signal\n",
        "import scipy.linalg as linalg\n",
        "#from TrajectoryGenerator import TrajectoryGenerator\n",
        "from mpl_toolkits.mplot3d import Axes3D\n",
        "from scipy.integrate import solve_ivp\n",
        "import matplotlib.pyplot as plt\n",
        "from matplotlib import animation"
      ],
      "execution_count": null,
      "outputs": []
    },
    {
      "cell_type": "code",
      "metadata": {
        "id": "-y3tmWkjYusc"
      },
      "source": [
        "# Initial Parameters\n",
        "\n",
        "r0=1500+6378 # distance of sattelite from earth center (km)\n",
        "G=6.674*10**(-11) # Earth's Gravitational Constant)\\\n",
        "R = 6378/2\n",
        "k=398600.4418 # G*M (M is the mass of the earth)\n",
        "w0=np.sqrt(k/r0**3)\n",
        "m=1000 # mass of the satellite in Kg\n",
        "\n",
        "# Parameters\n",
        "r=r0\n",
        "theta=0.001\n",
        "phi=0\n",
        "r_dot=0\n",
        "theta_dot=w0\n",
        "phi_dot=0\n",
        "\n",
        "# Inputs\n",
        "ur = 0\n",
        "ut = 0\n",
        "up = 0\n",
        "\n",
        "pn = r0 * np.cos(theta)\n",
        "pe = r0 * np.sin(theta)\n",
        "pd = r0 * np.sin(phi)\n",
        "\n",
        "# Initial States\n",
        "states = np.array([r, theta, phi, r_dot, theta_dot, phi_dot])\n",
        "\n",
        "# simulation parameters\n",
        "dt=20\n",
        "Tfinal=8000\n",
        "Ts=dt\n",
        "Tsteps=Tfinal/Ts #framees\n",
        "frames=int(Tsteps)"
      ],
      "execution_count": null,
      "outputs": []
    },
    {
      "cell_type": "code",
      "metadata": {
        "id": "OxgaOfbIabpj"
      },
      "source": [
        "# Rotational Matrix\n",
        "\n",
        "def rotation_matrix_body2Inertial(phi, theta, psi):\n",
        "    R_b_w=np.array([[cos(theta)*cos(psi), sin(phi)*sin(theta)*cos(psi)-cos(phi)*sin(psi), cos(phi)*sin(theta)*cos(psi)+sin(phi)*sin(psi)],\n",
        "         [cos(theta)*sin(psi), sin(phi)*sin(theta)*sin(psi)+cos(phi)*cos(psi), cos(phi)*sin(theta)*sin(psi)-sin(phi)*cos(psi)],\n",
        "         [-sin(theta), sin(phi)*cos(theta), cos(phi)*cos(theta)]])\n",
        "    return R_b_w"
      ],
      "execution_count": null,
      "outputs": []
    },
    {
      "cell_type": "code",
      "metadata": {
        "id": "9I0Uvp3GsJFz"
      },
      "source": [
        "# Cube-Sat Dynamics\n",
        "\n",
        "def sat_dyna(t,y,f):\n",
        "\n",
        "  r = y[0]\n",
        "  theta = y[1]\n",
        "  phi = y[2]\n",
        "  r_dot = y[3]\n",
        "  theta_dot = y[4]\n",
        "  phi_dot = y[5]\n",
        "\n",
        "  ur = f[0]\n",
        "  ut = f[1]\n",
        "  up = f[2]\n",
        "\n",
        "  ct = np.cos(theta)\n",
        "  st = np.sin(theta)\n",
        "  cp = np.cos(phi)\n",
        "  sp = np.sin(phi)\n",
        "\n",
        "  r_ddot = (r * theta_dot ** 2 * cp ** 2) + (r * phi_dot ** 2) - (k / r ** 2) + (ur /m)\n",
        "  theta_ddot = (- 2 * r_dot * theta_dot / r) + (2 * theta_dot * phi_dot * sp / cp) + (ut / m * r * cp)\n",
        "  phi_ddot = (- theta_dot ** 2 * cp * sp) - (2 * r_dot * phi_dot / r) + (up / m * r)\n",
        "\n",
        "  return [y[3], y[4], y[5], r_ddot, theta_ddot, phi_ddot]"
      ],
      "execution_count": null,
      "outputs": []
    },
    {
      "cell_type": "code",
      "metadata": {
        "id": "280yNghXsOF8"
      },
      "source": [
        "# Solves the dynamics using integrator\n",
        "\n",
        "def step(states, dt):\n",
        "  r = states[0]\n",
        "  theta = states[1]\n",
        "  phi = states[2]\n",
        "  r_dot = states[3]\n",
        "  theta_dot = states[4]\n",
        "  phi_dot = states[5]\n",
        "\n",
        "  f = [ 0, 0, 0 ]\n",
        "\n",
        "  sol = solve_ivp(lambda t , y: sat_dyna(t, y, f), [0, dt], [r, theta, phi, r_dot, theta_dot, phi_dot], t_eval= np.linspace(0, dt, 10))\n",
        "  states = sol.y[:,-1].T\n",
        "  return states"
      ],
      "execution_count": null,
      "outputs": []
    },
    {
      "cell_type": "code",
      "metadata": {
        "id": "PbBcI4Tca8gV"
      },
      "source": [
        "# Initial Plot\n",
        "\n",
        "fig = plt.figure(figsize=(7,7), dpi=90)\n",
        "ax = fig.add_subplot(1, 1, 1,projection='3d')\n",
        "ax.set_xlim(( -10000, 10000))            \n",
        "ax.set_ylim((-10000, 10000))\n",
        "ax.set_zlim((-10000, 10000))\n",
        " \n",
        "u = np.linspace(0, 2 * np.pi, 100)\n",
        "v = np.linspace(0, np.pi, 100)\n",
        " \n",
        "x = R * np.outer(np.cos(u), np.sin(v))\n",
        "y = R * np.outer(np.sin(u), np.sin(v))\n",
        "z = R * np.outer(np.ones(np.size(u)), np.cos(v))\n",
        " \n",
        "ax.plot_surface(x, y, z,  cmap='viridis', edgecolor='none')\n",
        "\n",
        "phi = 0\n",
        "theta = 0\n",
        "psi = 0\n",
        "\n",
        "sat_x = r*np.cos(theta)\n",
        "sat_y = r*np.sin(theta)\n",
        "sat_z = r*sin(phi)\n",
        "\n",
        "pn = sat_x\n",
        "pe = sat_y\n",
        "pd = sat_z\n",
        "\n",
        "pos=np.array([pn, pe, pd, phi, theta, psi])\n",
        "\n",
        "w=1000 # width\n",
        "v1=np.array([w/2, -w/2, -w/2]).T\n",
        "v2=np.array([-w/2, -w/2, -w/2]).T\n",
        "v3=np.array([-w/2, w/2, -w/2]).T\n",
        "v4=np.array([w/2, w/2, -w/2]).T\n",
        " \n",
        "v5=np.array([w/2, -w/2, w/2]).T\n",
        "v6=np.array([-w/2, -w/2, w/2]).T\n",
        "v7=np.array([-w/2, w/2, w/2]).T\n",
        "v8=np.array([w/2, w/2, w/2]).T\n",
        " \n",
        "# inertial coordiantes\n",
        "N_i=np.array([1, 0, 0]).T\n",
        "E_i=np.array([0, 1, 0]).T\n",
        "D_i=np.array([0, 0, 1]).T\n",
        " \n",
        "# Rotate and translate the vertices\n",
        "pos_ned=np.array([pn, pe, pd]).T\n",
        "R1=rotation_matrix_body2Inertial(phi,theta,psi)\n",
        "v1r=np.matmul(R1,v1)+pos_ned\n",
        "v2r=np.matmul(R1,v2)+pos_ned\n",
        "v3r=np.matmul(R1,v3)+pos_ned\n",
        "v4r=np.matmul(R1,v4)+pos_ned\n",
        "v5r=np.matmul(R1,v5)+pos_ned\n",
        "v6r=np.matmul(R1,v6)+pos_ned\n",
        "v7r=np.matmul(R1,v7)+pos_ned\n",
        "v8r=np.matmul(R1,v8)+pos_ned\n",
        "# face for 4 cube faces\n",
        "f1_x=[v1r[0], v2r[0], v3r[0], v4r[0], v1r[0]]\n",
        "f1_y=[v1r[1], v2r[1], v3r[1], v4r[1], v1r[1]]\n",
        "f1_z=[v1r[2], v2r[2], v3r[2], v4r[2], v1r[2]]\n",
        "f2_x=[v5r[0], v6r[0], v7r[0], v8r[0], v5r[0]]\n",
        "f2_y=[v5r[1], v6r[1], v7r[1], v8r[1], v5r[1]]\n",
        "f2_z=[v5r[2], v6r[2], v7r[2], v8r[2], v5r[2]]\n",
        "f3_x=[v3r[0], v4r[0], v8r[0], v7r[0], v3r[0]]\n",
        "f3_y=[v3r[1], v4r[1], v8r[1], v7r[1], v3r[1]]\n",
        "f3_z=[v3r[2], v4r[2], v8r[2], v7r[2], v3r[2]]\n",
        "f4_x=[v2r[0], v1r[0], v5r[0], v6r[0], v2r[0]]\n",
        "f4_y=[v2r[1], v1r[1], v5r[1], v6r[1], v2r[1]]\n",
        "f4_z=[v2r[2], v1r[2], v5r[2], v6r[2], v2r[2]]\n",
        " \n",
        "face1, = ax.plot(f1_x, f1_y, f1_z, 'b', lw=2)\n",
        "face2, = ax.plot(f2_x, f2_y, f2_z, 'r', lw=2)\n",
        "face3, = ax.plot(f3_x, f3_y, f3_z, 'g', lw=2)\n",
        "face4, = ax.plot(f4_x, f4_y, f4_z, 'y', lw=2)\n",
        "\n",
        "ax.set_xlabel('X-axis')\n",
        "ax.set_ylabel('Y-axis')\n",
        "ax.set_zlabel('Z-axis')\n",
        "ax.set_title('Satellite-Earth System')"
      ],
      "execution_count": null,
      "outputs": []
    },
    {
      "cell_type": "code",
      "metadata": {
        "id": "Bf2w3Ov1stiH"
      },
      "source": [
        "def satPoints(r,theta,phi):\n",
        "  sat_x = r*np.cos(theta)\n",
        "  sat_y = r*np.sin(theta)\n",
        "  sat_z = r*sin(phi)\n",
        "  return sat_x, sat_y, sat_z"
      ],
      "execution_count": null,
      "outputs": []
    },
    {
      "cell_type": "code",
      "metadata": {
        "id": "jxRBh2Hoj7ac"
      },
      "source": [
        "# Iterate the solver\n",
        "\n",
        "def drawframe(i):\n",
        "  global states\n",
        "  states = step(states, dt)\n",
        "  r = states[0]\n",
        "  theta = states[1]\n",
        "  phi = states[2]\n",
        "\n",
        "  sat_x, sat_y, sat_z = satPoints(r, theta, phi)\n",
        "  pn = sat_x\n",
        "  pe = sat_y\n",
        "  pd = sat_z\n",
        "\n",
        "  phi = pos[3]\n",
        "  theta = pos[4]\n",
        "  psi = pos[5]\n",
        "\n",
        "  pos_ned = np.array([pn, pe, pd]).T\n",
        "\n",
        "  R1=rotation_matrix_body2Inertial(phi,theta,psi)\n",
        "  v1r=np.matmul(R1,v1)+pos_ned\n",
        "  v2r=np.matmul(R1,v2)+pos_ned\n",
        "  v3r=np.matmul(R1,v3)+pos_ned\n",
        "  v4r=np.matmul(R1,v4)+pos_ned\n",
        "  v5r=np.matmul(R1,v5)+pos_ned\n",
        "  v6r=np.matmul(R1,v6)+pos_ned\n",
        "  v7r=np.matmul(R1,v7)+pos_ned\n",
        "  v8r=np.matmul(R1,v8)+pos_ned\n",
        "  # face for 4 cube faces\n",
        "  f1_x=[v1r[0], v2r[0], v3r[0], v4r[0], v1r[0]]\n",
        "  f1_y=[v1r[1], v2r[1], v3r[1], v4r[1], v1r[1]]\n",
        "  f1_z=[v1r[2], v2r[2], v3r[2], v4r[2], v1r[2]]\n",
        "  f2_x=[v5r[0], v6r[0], v7r[0], v8r[0], v5r[0]]\n",
        "  f2_y=[v5r[1], v6r[1], v7r[1], v8r[1], v5r[1]]\n",
        "  f2_z=[v5r[2], v6r[2], v7r[2], v8r[2], v5r[2]]\n",
        "  f3_x=[v3r[0], v4r[0], v8r[0], v7r[0], v3r[0]]\n",
        "  f3_y=[v3r[1], v4r[1], v8r[1], v7r[1], v3r[1]]\n",
        "  f3_z=[v3r[2], v4r[2], v8r[2], v7r[2], v3r[2]]\n",
        "  f4_x=[v2r[0], v1r[0], v5r[0], v6r[0], v2r[0]]\n",
        "  f4_y=[v2r[1], v1r[1], v5r[1], v6r[1], v2r[1]]\n",
        "  f4_z=[v2r[2], v1r[2], v5r[2], v6r[2], v2r[2]]\n",
        "  \n",
        "\n",
        "  face1.set_data(f1_x, f1_y)\n",
        "  face1.set_3d_properties(f1_z)\n",
        "  face2.set_data(f2_x, f2_y)\n",
        "  face2.set_3d_properties(f2_z)\n",
        "  face3.set_data(f3_x, f3_y)\n",
        "  face3.set_3d_properties(f3_z)\n",
        "  face4.set_data(f4_x, f4_y)\n",
        "  face4.set_3d_properties(f3_z)\n",
        "\n",
        "  return face1, face2, face3, face4\n"
      ],
      "execution_count": null,
      "outputs": []
    },
    {
      "cell_type": "code",
      "metadata": {
        "id": "j1llDsFX3aRB"
      },
      "source": [
        "# Create Animation\n",
        "\n",
        "from matplotlib import animation\n",
        "ax.set_xlabel('X-axis')\n",
        "ax.set_ylabel('Y-axis')\n",
        "ax.set_zlabel('Z-axis')\n",
        "ax.set_title('Satellite-Earth System')\n",
        "# blit=True re-draws only the parts that have changed.\n",
        "anim = animation.FuncAnimation(fig, drawframe, frames=frames, interval=40, blit=True)"
      ],
      "execution_count": null,
      "outputs": []
    },
    {
      "cell_type": "code",
      "metadata": {
        "id": "N9k1FR7O3cqL"
      },
      "source": [
        "# Convert Animation as HTML video\n",
        "\n",
        "from IPython.display import HTML\n",
        "HTML(anim.to_html5_video())"
      ],
      "execution_count": null,
      "outputs": []
    }
  ]
}
